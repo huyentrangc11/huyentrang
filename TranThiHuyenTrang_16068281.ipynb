{
  "nbformat": 4,
  "nbformat_minor": 0,
  "metadata": {
    "colab": {
      "name": "TranThiHuyenTrang_16068281.ipynb",
      "provenance": [],
      "collapsed_sections": [],
      "authorship_tag": "ABX9TyM9Ozj2LYffK7aM/i9LaJSu",
      "include_colab_link": true
    },
    "kernelspec": {
      "name": "python3",
      "display_name": "Python 3"
    }
  },
  "cells": [
    {
      "cell_type": "markdown",
      "metadata": {
        "id": "view-in-github",
        "colab_type": "text"
      },
      "source": [
        "<a href=\"https://colab.research.google.com/github/huyentrangc11/huyentrang/blob/main/TranThiHuyenTrang_16068281.ipynb\" target=\"_parent\"><img src=\"https://colab.research.google.com/assets/colab-badge.svg\" alt=\"Open In Colab\"/></a>"
      ]
    },
    {
      "cell_type": "code",
      "metadata": {
        "id": "oKIpqJDOxymc"
      },
      "source": [
        "import matplotlib.pyplot as plt\r\n",
        "import seaborn as sns\r\n",
        "%matplotlib inline\r\n",
        "import pandas as pd\r\n",
        "import numpy as np\r\n"
      ],
      "execution_count": 8,
      "outputs": []
    },
    {
      "cell_type": "code",
      "metadata": {
        "id": "rm0ICgFX2nIk"
      },
      "source": [
        "df=pd.read_excel('/content/KQThiLyThuyet-26.12.2020_ca2.xlsx')"
      ],
      "execution_count": 9,
      "outputs": []
    },
    {
      "cell_type": "code",
      "metadata": {
        "colab": {
          "base_uri": "https://localhost:8080/",
          "height": 419
        },
        "id": "kys78wy4Ke69",
        "outputId": "b8ee47e3-3a22-4206-fa7a-e3306a80bd62"
      },
      "source": [
        "df"
      ],
      "execution_count": 11,
      "outputs": [
        {
          "output_type": "execute_result",
          "data": {
            "text/html": [
              "<div>\n",
              "<style scoped>\n",
              "    .dataframe tbody tr th:only-of-type {\n",
              "        vertical-align: middle;\n",
              "    }\n",
              "\n",
              "    .dataframe tbody tr th {\n",
              "        vertical-align: top;\n",
              "    }\n",
              "\n",
              "    .dataframe thead th {\n",
              "        text-align: right;\n",
              "    }\n",
              "</style>\n",
              "<table border=\"1\" class=\"dataframe\">\n",
              "  <thead>\n",
              "    <tr style=\"text-align: right;\">\n",
              "      <th></th>\n",
              "      <th>STT</th>\n",
              "      <th>Mã SV</th>\n",
              "      <th>Họ đệm</th>\n",
              "      <th>Tên</th>\n",
              "      <th>Giới tính</th>\n",
              "      <th>Ngày sinh</th>\n",
              "      <th>Điểm</th>\n",
              "      <th>Điểm.1</th>\n",
              "    </tr>\n",
              "  </thead>\n",
              "  <tbody>\n",
              "    <tr>\n",
              "      <th>0</th>\n",
              "      <td>1</td>\n",
              "      <td>18066431</td>\n",
              "      <td>Đỗ Huy Quốc</td>\n",
              "      <td>An</td>\n",
              "      <td>Nữ</td>\n",
              "      <td>2000-08-11 00:00:00</td>\n",
              "      <td>5.0</td>\n",
              "      <td>5.0</td>\n",
              "    </tr>\n",
              "    <tr>\n",
              "      <th>1</th>\n",
              "      <td>2</td>\n",
              "      <td>18031341</td>\n",
              "      <td>Hồ Văn Công</td>\n",
              "      <td>Anh</td>\n",
              "      <td>Nữ</td>\n",
              "      <td>27/09/2000</td>\n",
              "      <td>5.5</td>\n",
              "      <td>5.5</td>\n",
              "    </tr>\n",
              "    <tr>\n",
              "      <th>2</th>\n",
              "      <td>4</td>\n",
              "      <td>19462511</td>\n",
              "      <td>Nguyễn Thị Tuyết</td>\n",
              "      <td>Anh</td>\n",
              "      <td>Nữ</td>\n",
              "      <td>2001-01-01 00:00:00</td>\n",
              "      <td>6.3</td>\n",
              "      <td>6.5</td>\n",
              "    </tr>\n",
              "    <tr>\n",
              "      <th>3</th>\n",
              "      <td>5</td>\n",
              "      <td>18002951</td>\n",
              "      <td>Bùi Thái</td>\n",
              "      <td>Bình</td>\n",
              "      <td>Nữ</td>\n",
              "      <td>25/09/2000</td>\n",
              "      <td>5.8</td>\n",
              "      <td>6.0</td>\n",
              "    </tr>\n",
              "    <tr>\n",
              "      <th>4</th>\n",
              "      <td>6</td>\n",
              "      <td>18024551</td>\n",
              "      <td>Bùi Kim</td>\n",
              "      <td>Chi</td>\n",
              "      <td>Nữ</td>\n",
              "      <td>2000-04-06 00:00:00</td>\n",
              "      <td>7.0</td>\n",
              "      <td>7.0</td>\n",
              "    </tr>\n",
              "    <tr>\n",
              "      <th>...</th>\n",
              "      <td>...</td>\n",
              "      <td>...</td>\n",
              "      <td>...</td>\n",
              "      <td>...</td>\n",
              "      <td>...</td>\n",
              "      <td>...</td>\n",
              "      <td>...</td>\n",
              "      <td>...</td>\n",
              "    </tr>\n",
              "    <tr>\n",
              "      <th>59</th>\n",
              "      <td>61</td>\n",
              "      <td>18015761</td>\n",
              "      <td>Đỗ Thị Lan</td>\n",
              "      <td>Vân</td>\n",
              "      <td>Nữ</td>\n",
              "      <td>2000-08-12 00:00:00</td>\n",
              "      <td>5.5</td>\n",
              "      <td>5.5</td>\n",
              "    </tr>\n",
              "    <tr>\n",
              "      <th>60</th>\n",
              "      <td>62</td>\n",
              "      <td>17071471</td>\n",
              "      <td>Trần Thùy</td>\n",
              "      <td>Vân</td>\n",
              "      <td>Nữ</td>\n",
              "      <td>NaN</td>\n",
              "      <td>4.5</td>\n",
              "      <td>4.5</td>\n",
              "    </tr>\n",
              "    <tr>\n",
              "      <th>61</th>\n",
              "      <td>63</td>\n",
              "      <td>18098621</td>\n",
              "      <td>Nguyễn Tường</td>\n",
              "      <td>Vy</td>\n",
              "      <td>Nữ</td>\n",
              "      <td>21/04/2000</td>\n",
              "      <td>4.8</td>\n",
              "      <td>5.0</td>\n",
              "    </tr>\n",
              "    <tr>\n",
              "      <th>62</th>\n",
              "      <td>64</td>\n",
              "      <td>17054331</td>\n",
              "      <td>Từ Thị Thảo</td>\n",
              "      <td>Vy</td>\n",
              "      <td>Nữ</td>\n",
              "      <td>18/12/1999</td>\n",
              "      <td>4.0</td>\n",
              "      <td>4.0</td>\n",
              "    </tr>\n",
              "    <tr>\n",
              "      <th>63</th>\n",
              "      <td>65</td>\n",
              "      <td>18020671</td>\n",
              "      <td>Đoàn Nhị Thiên</td>\n",
              "      <td>Y</td>\n",
              "      <td>Nữ</td>\n",
              "      <td>18/10/2000</td>\n",
              "      <td>6.0</td>\n",
              "      <td>6.0</td>\n",
              "    </tr>\n",
              "  </tbody>\n",
              "</table>\n",
              "<p>64 rows × 8 columns</p>\n",
              "</div>"
            ],
            "text/plain": [
              "    STT     Mã SV            Họ đệm  ...            Ngày sinh Điểm Điểm.1\n",
              "0     1  18066431       Đỗ Huy Quốc  ...  2000-08-11 00:00:00  5.0    5.0\n",
              "1     2  18031341       Hồ Văn Công  ...           27/09/2000  5.5    5.5\n",
              "2     4  19462511  Nguyễn Thị Tuyết  ...  2001-01-01 00:00:00  6.3    6.5\n",
              "3     5  18002951          Bùi Thái  ...           25/09/2000  5.8    6.0\n",
              "4     6  18024551           Bùi Kim  ...  2000-04-06 00:00:00  7.0    7.0\n",
              "..  ...       ...               ...  ...                  ...  ...    ...\n",
              "59   61  18015761        Đỗ Thị Lan  ...  2000-08-12 00:00:00  5.5    5.5\n",
              "60   62  17071471         Trần Thùy  ...                  NaN  4.5    4.5\n",
              "61   63  18098621      Nguyễn Tường  ...           21/04/2000  4.8    5.0\n",
              "62   64  17054331       Từ Thị Thảo  ...           18/12/1999  4.0    4.0\n",
              "63   65  18020671    Đoàn Nhị Thiên  ...           18/10/2000  6.0    6.0\n",
              "\n",
              "[64 rows x 8 columns]"
            ]
          },
          "metadata": {
            "tags": []
          },
          "execution_count": 11
        }
      ]
    },
    {
      "cell_type": "code",
      "metadata": {
        "colab": {
          "base_uri": "https://localhost:8080/"
        },
        "id": "SrON2fn_4MDb",
        "outputId": "8e7e7258-163d-420b-b6de-b1f096e75f7d"
      },
      "source": [
        "df.info()"
      ],
      "execution_count": 12,
      "outputs": [
        {
          "output_type": "stream",
          "text": [
            "<class 'pandas.core.frame.DataFrame'>\n",
            "RangeIndex: 64 entries, 0 to 63\n",
            "Data columns (total 8 columns):\n",
            " #   Column     Non-Null Count  Dtype  \n",
            "---  ------     --------------  -----  \n",
            " 0   STT        64 non-null     int64  \n",
            " 1   Mã SV      64 non-null     int64  \n",
            " 2   Họ đệm     64 non-null     object \n",
            " 3   Tên        64 non-null     object \n",
            " 4   Giới tính  64 non-null     object \n",
            " 5   Ngày sinh  60 non-null     object \n",
            " 6   Điểm       64 non-null     float64\n",
            " 7   Điểm.1     64 non-null     float64\n",
            "dtypes: float64(2), int64(2), object(4)\n",
            "memory usage: 4.1+ KB\n"
          ],
          "name": "stdout"
        }
      ]
    },
    {
      "cell_type": "code",
      "metadata": {
        "colab": {
          "base_uri": "https://localhost:8080/"
        },
        "id": "jjDN6hym4Qvj",
        "outputId": "c5df1403-4ea6-4a2d-c050-7f709bd657da"
      },
      "source": [
        "df.isnull().sum()"
      ],
      "execution_count": 13,
      "outputs": [
        {
          "output_type": "execute_result",
          "data": {
            "text/plain": [
              "STT          0\n",
              "Mã SV        0\n",
              "Họ đệm       0\n",
              "Tên          0\n",
              "Giới tính    0\n",
              "Ngày sinh    4\n",
              "Điểm         0\n",
              "Điểm.1       0\n",
              "dtype: int64"
            ]
          },
          "metadata": {
            "tags": []
          },
          "execution_count": 13
        }
      ]
    },
    {
      "cell_type": "code",
      "metadata": {
        "id": "6i3xv08oK_Kd",
        "colab": {
          "base_uri": "https://localhost:8080/"
        },
        "outputId": "a8502487-b60f-4844-f5d7-8d524fa0dd4e"
      },
      "source": [
        "df.isnull().sum()"
      ],
      "execution_count": 15,
      "outputs": [
        {
          "output_type": "execute_result",
          "data": {
            "text/plain": [
              "STT          0\n",
              "Mã SV        0\n",
              "Họ đệm       0\n",
              "Tên          0\n",
              "Giới tính    0\n",
              "Ngày sinh    4\n",
              "Điểm         0\n",
              "Điểm.1       0\n",
              "dtype: int64"
            ]
          },
          "metadata": {
            "tags": []
          },
          "execution_count": 15
        }
      ]
    },
    {
      "cell_type": "code",
      "metadata": {
        "colab": {
          "base_uri": "https://localhost:8080/"
        },
        "id": "UnJd7lvg4Y_j",
        "outputId": "0f07481d-3562-4ecf-8a9f-fc1a1db18b17"
      },
      "source": [
        "df[\"Điểm\"].describe()"
      ],
      "execution_count": 34,
      "outputs": [
        {
          "output_type": "execute_result",
          "data": {
            "text/plain": [
              "count    64.000000\n",
              "mean      5.315625\n",
              "std       1.205703\n",
              "min       0.000000\n",
              "25%       4.725000\n",
              "50%       5.400000\n",
              "75%       6.300000\n",
              "max       7.000000\n",
              "Name: Điểm, dtype: float64"
            ]
          },
          "metadata": {
            "tags": []
          },
          "execution_count": 34
        }
      ]
    },
    {
      "cell_type": "code",
      "metadata": {
        "colab": {
          "base_uri": "https://localhost:8080/",
          "height": 204
        },
        "id": "Nhv24bW85KbT",
        "outputId": "774664c4-73a2-4303-fec2-5722840aae48"
      },
      "source": [
        "df.head()"
      ],
      "execution_count": 17,
      "outputs": [
        {
          "output_type": "execute_result",
          "data": {
            "text/html": [
              "<div>\n",
              "<style scoped>\n",
              "    .dataframe tbody tr th:only-of-type {\n",
              "        vertical-align: middle;\n",
              "    }\n",
              "\n",
              "    .dataframe tbody tr th {\n",
              "        vertical-align: top;\n",
              "    }\n",
              "\n",
              "    .dataframe thead th {\n",
              "        text-align: right;\n",
              "    }\n",
              "</style>\n",
              "<table border=\"1\" class=\"dataframe\">\n",
              "  <thead>\n",
              "    <tr style=\"text-align: right;\">\n",
              "      <th></th>\n",
              "      <th>STT</th>\n",
              "      <th>Mã SV</th>\n",
              "      <th>Họ đệm</th>\n",
              "      <th>Tên</th>\n",
              "      <th>Giới tính</th>\n",
              "      <th>Ngày sinh</th>\n",
              "      <th>Điểm</th>\n",
              "      <th>Điểm.1</th>\n",
              "    </tr>\n",
              "  </thead>\n",
              "  <tbody>\n",
              "    <tr>\n",
              "      <th>0</th>\n",
              "      <td>1</td>\n",
              "      <td>18066431</td>\n",
              "      <td>Đỗ Huy Quốc</td>\n",
              "      <td>An</td>\n",
              "      <td>Nữ</td>\n",
              "      <td>2000-08-11 00:00:00</td>\n",
              "      <td>5.0</td>\n",
              "      <td>5.0</td>\n",
              "    </tr>\n",
              "    <tr>\n",
              "      <th>1</th>\n",
              "      <td>2</td>\n",
              "      <td>18031341</td>\n",
              "      <td>Hồ Văn Công</td>\n",
              "      <td>Anh</td>\n",
              "      <td>Nữ</td>\n",
              "      <td>27/09/2000</td>\n",
              "      <td>5.5</td>\n",
              "      <td>5.5</td>\n",
              "    </tr>\n",
              "    <tr>\n",
              "      <th>2</th>\n",
              "      <td>4</td>\n",
              "      <td>19462511</td>\n",
              "      <td>Nguyễn Thị Tuyết</td>\n",
              "      <td>Anh</td>\n",
              "      <td>Nữ</td>\n",
              "      <td>2001-01-01 00:00:00</td>\n",
              "      <td>6.3</td>\n",
              "      <td>6.5</td>\n",
              "    </tr>\n",
              "    <tr>\n",
              "      <th>3</th>\n",
              "      <td>5</td>\n",
              "      <td>18002951</td>\n",
              "      <td>Bùi Thái</td>\n",
              "      <td>Bình</td>\n",
              "      <td>Nữ</td>\n",
              "      <td>25/09/2000</td>\n",
              "      <td>5.8</td>\n",
              "      <td>6.0</td>\n",
              "    </tr>\n",
              "    <tr>\n",
              "      <th>4</th>\n",
              "      <td>6</td>\n",
              "      <td>18024551</td>\n",
              "      <td>Bùi Kim</td>\n",
              "      <td>Chi</td>\n",
              "      <td>Nữ</td>\n",
              "      <td>2000-04-06 00:00:00</td>\n",
              "      <td>7.0</td>\n",
              "      <td>7.0</td>\n",
              "    </tr>\n",
              "  </tbody>\n",
              "</table>\n",
              "</div>"
            ],
            "text/plain": [
              "   STT     Mã SV            Họ đệm  ...            Ngày sinh Điểm Điểm.1\n",
              "0    1  18066431       Đỗ Huy Quốc  ...  2000-08-11 00:00:00  5.0    5.0\n",
              "1    2  18031341       Hồ Văn Công  ...           27/09/2000  5.5    5.5\n",
              "2    4  19462511  Nguyễn Thị Tuyết  ...  2001-01-01 00:00:00  6.3    6.5\n",
              "3    5  18002951          Bùi Thái  ...           25/09/2000  5.8    6.0\n",
              "4    6  18024551           Bùi Kim  ...  2000-04-06 00:00:00  7.0    7.0\n",
              "\n",
              "[5 rows x 8 columns]"
            ]
          },
          "metadata": {
            "tags": []
          },
          "execution_count": 17
        }
      ]
    },
    {
      "cell_type": "code",
      "metadata": {
        "colab": {
          "base_uri": "https://localhost:8080/",
          "height": 297
        },
        "id": "pacJ5Xnm7pwz",
        "outputId": "9da602a8-3779-4817-fdb6-eb9b936012ab"
      },
      "source": [
        "df.describe(include=['float64'])"
      ],
      "execution_count": 18,
      "outputs": [
        {
          "output_type": "execute_result",
          "data": {
            "text/html": [
              "<div>\n",
              "<style scoped>\n",
              "    .dataframe tbody tr th:only-of-type {\n",
              "        vertical-align: middle;\n",
              "    }\n",
              "\n",
              "    .dataframe tbody tr th {\n",
              "        vertical-align: top;\n",
              "    }\n",
              "\n",
              "    .dataframe thead th {\n",
              "        text-align: right;\n",
              "    }\n",
              "</style>\n",
              "<table border=\"1\" class=\"dataframe\">\n",
              "  <thead>\n",
              "    <tr style=\"text-align: right;\">\n",
              "      <th></th>\n",
              "      <th>Điểm</th>\n",
              "      <th>Điểm.1</th>\n",
              "    </tr>\n",
              "  </thead>\n",
              "  <tbody>\n",
              "    <tr>\n",
              "      <th>count</th>\n",
              "      <td>64.000000</td>\n",
              "      <td>64.000000</td>\n",
              "    </tr>\n",
              "    <tr>\n",
              "      <th>mean</th>\n",
              "      <td>5.315625</td>\n",
              "      <td>5.421875</td>\n",
              "    </tr>\n",
              "    <tr>\n",
              "      <th>std</th>\n",
              "      <td>1.205703</td>\n",
              "      <td>1.225453</td>\n",
              "    </tr>\n",
              "    <tr>\n",
              "      <th>min</th>\n",
              "      <td>0.000000</td>\n",
              "      <td>0.000000</td>\n",
              "    </tr>\n",
              "    <tr>\n",
              "      <th>25%</th>\n",
              "      <td>4.725000</td>\n",
              "      <td>4.875000</td>\n",
              "    </tr>\n",
              "    <tr>\n",
              "      <th>50%</th>\n",
              "      <td>5.400000</td>\n",
              "      <td>5.500000</td>\n",
              "    </tr>\n",
              "    <tr>\n",
              "      <th>75%</th>\n",
              "      <td>6.300000</td>\n",
              "      <td>6.500000</td>\n",
              "    </tr>\n",
              "    <tr>\n",
              "      <th>max</th>\n",
              "      <td>7.000000</td>\n",
              "      <td>7.000000</td>\n",
              "    </tr>\n",
              "  </tbody>\n",
              "</table>\n",
              "</div>"
            ],
            "text/plain": [
              "            Điểm     Điểm.1\n",
              "count  64.000000  64.000000\n",
              "mean    5.315625   5.421875\n",
              "std     1.205703   1.225453\n",
              "min     0.000000   0.000000\n",
              "25%     4.725000   4.875000\n",
              "50%     5.400000   5.500000\n",
              "75%     6.300000   6.500000\n",
              "max     7.000000   7.000000"
            ]
          },
          "metadata": {
            "tags": []
          },
          "execution_count": 18
        }
      ]
    },
    {
      "cell_type": "code",
      "metadata": {
        "colab": {
          "base_uri": "https://localhost:8080/",
          "height": 315
        },
        "id": "0VzUFlmN9bbd",
        "outputId": "da70f7ea-09e3-4133-d4a0-72f47e5893c1"
      },
      "source": [
        "df.hist(column='Điểm')"
      ],
      "execution_count": 20,
      "outputs": [
        {
          "output_type": "execute_result",
          "data": {
            "text/plain": [
              "array([[<matplotlib.axes._subplots.AxesSubplot object at 0x7fdeb5e93278>]],\n",
              "      dtype=object)"
            ]
          },
          "metadata": {
            "tags": []
          },
          "execution_count": 20
        },
        {
          "output_type": "display_data",
          "data": {
            "image/png": "[encoded data removed]",
            "text/plain": [
              "<Figure size 432x288 with 1 Axes>"
            ]
          },
          "metadata": {
            "tags": [],
            "needs_background": "light"
          }
        }
      ]
    },
    {
      "cell_type": "markdown",
      "metadata": {
        "id": "VYTtmdIW9FgX"
      },
      "source": [
        "dựa vào biểu đồ cho thấy mức điểm khoảng từ 4 đến 7 điểm xuất hiện nhiều nhất, phân bố nhiều.\r\n",
        "tất cả các sinh viên đa số đều trên 3 điểm\r\n",
        "mức 7 điểm là cao nhất với 18 sinh viên\r\n",
        "15 sinh viên đạt điểm 5\r\n",
        "1 sinh viên điểm 0"
      ]
    },
    {
      "cell_type": "code",
      "metadata": {
        "colab": {
          "base_uri": "https://localhost:8080/",
          "height": 282
        },
        "id": "pBlCPqs8t-77",
        "outputId": "a3dd2776-e197-4c56-f324-c0505c534d66"
      },
      "source": [
        "sns.boxplot(data=df['Điểm'])"
      ],
      "execution_count": 32,
      "outputs": [
        {
          "output_type": "execute_result",
          "data": {
            "text/plain": [
              "<matplotlib.axes._subplots.AxesSubplot at 0x7fdeb1f3ea20>"
            ]
          },
          "metadata": {
            "tags": []
          },
          "execution_count": 32
        },
        {
          "output_type": "display_data",
          "data": {
            "image/png": "[encoded data removed]",
            "text/plain": [
              "<Figure size 432x288 with 1 Axes>"
            ]
          },
          "metadata": {
            "tags": [],
            "needs_background": "light"
          }
        }
      ]
    },
    {
      "cell_type": "markdown",
      "metadata": {
        "id": "YdMaBZd2uS78"
      },
      "source": [
        "Nhìn vào biểu đồ ta thấy đa số sinh viên đạt từ 3-7 điểm\r\n",
        "min =3 \r\n",
        "25%= 4.7 \r\n",
        "trung vị = 5.4 \r\n",
        "75%= 6.3 \r\n",
        "max = 7 \r\n"
      ]
    },
    {
      "cell_type": "code",
      "metadata": {
        "colab": {
          "base_uri": "https://localhost:8080/",
          "height": 296
        },
        "id": "XBJI6JFVAErF",
        "outputId": "224a5016-c20a-4680-9d52-1fa63ea83441"
      },
      "source": [
        "sorted_nb = df.groupby(['Giới tính'])['Điểm'].median().sort_values()\r\n",
        "sns.boxplot(x=df['Giới tính'], y=df['Điểm'], order=list(sorted_nb.index))"
      ],
      "execution_count": 25,
      "outputs": [
        {
          "output_type": "execute_result",
          "data": {
            "text/plain": [
              "<matplotlib.axes._subplots.AxesSubplot at 0x7fdeb590da20>"
            ]
          },
          "metadata": {
            "tags": []
          },
          "execution_count": 25
        },
        {
          "output_type": "display_data",
          "data": {
            "image/png": "[encoded data removed]",
            "text/plain": [
              "<Figure size 432x288 with 1 Axes>"
            ]
          },
          "metadata": {
            "tags": [],
            "needs_background": "light"
          }
        }
      ]
    },
    {
      "cell_type": "markdown",
      "metadata": {
        "id": "MZOEGYmd9y6m"
      },
      "source": [
        "box plot thường được dùng trong việc trực quan sự tương quan giữa biến định lượng và biến phân loại. Nhìn vào biểu đồ cho ta thấy 5 vị trí phân bố của dữ liệu của giới tính nữ \r\n",
        "min =3 \r\n",
        "25%= 4.7 \r\n",
        "trung vị = 5.4 \r\n",
        "75%= 6.3 \r\n",
        "max = 7 \r\n",
        "Số lượng giới tính giữa nam và nữ không đều nhau nữ chiếm nhiều hơn"
      ]
    },
    {
      "cell_type": "code",
      "metadata": {
        "colab": {
          "base_uri": "https://localhost:8080/",
          "height": 279
        },
        "id": "EPa-mRjftSul",
        "outputId": "e93a2df6-df2c-48f8-f9d5-15760e670e85"
      },
      "source": [
        "sns.countplot(x='Giới tính', data=df);"
      ],
      "execution_count": 31,
      "outputs": [
        {
          "output_type": "display_data",
          "data": {
            "image/png": "[encoded data removed]",
            "text/plain": [
              "<Figure size 432x288 with 1 Axes>"
            ]
          },
          "metadata": {
            "tags": [],
            "needs_background": "light"
          }
        }
      ]
    },
    {
      "cell_type": "markdown",
      "metadata": {
        "id": "8mQ7K6NqtWnd"
      },
      "source": [
        "Nhìn vào biểu đồ ta thấy được số lượng nam nữ không đều nhau. Sinh viên nữ chiếm 63 sinh viên\r\n",
        "Chỉ có 1 sinh viên nam."
      ]
    },
    {
      "cell_type": "code",
      "metadata": {
        "colab": {
          "base_uri": "https://localhost:8080/",
          "height": 279
        },
        "id": "EFzEkl2p90GA",
        "outputId": "b3e0e83d-8fad-4691-911d-c1cbe001ff4b"
      },
      "source": [
        "sns.countplot(x='Điểm', data=df);"
      ],
      "execution_count": 27,
      "outputs": [
        {
          "output_type": "display_data",
          "data": {
            "image/png": "[encoded data removed]",
            "text/plain": [
              "<Figure size 432x288 with 1 Axes>"
            ]
          },
          "metadata": {
            "tags": [],
            "needs_background": "light"
          }
        }
      ]
    },
    {
      "cell_type": "markdown",
      "metadata": {
        "id": "tritgr_GClwd"
      },
      "source": [
        "Nhìn vào biểu đồ ta thấy được chi tiết điểm số của các sinh viên\r\n",
        "cao nhất là 7 điểm và thấp nhất là 0 điểm\r\n",
        "khoảng 2-4 sinh viên đạt từ 3.5-4.5 điểm\r\n",
        "đa số các sinh viên còn lại đạt từ 4.8-7 điểm\r\n",
        "chỉ có 1 sinh viên đạt điểm 0\r\n",
        "và 8 sinh viên đạt điểm 6.3\r\n",
        "\r\n"
      ]
    }
  ]
}